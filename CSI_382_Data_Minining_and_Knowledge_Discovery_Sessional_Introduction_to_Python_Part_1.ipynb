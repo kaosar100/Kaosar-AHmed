{
  "nbformat": 4,
  "nbformat_minor": 0,
  "metadata": {
    "colab": {
      "name": "CSI 382 - Data Minining and Knowledge Discovery Sessional - Introduction to Python - Part 1.ipynb",
      "private_outputs": true,
      "provenance": [],
      "collapsed_sections": [],
      "include_colab_link": true
    },
    "kernelspec": {
      "name": "python3",
      "display_name": "Python 3"
    }
  },
  "cells": [
    {
      "cell_type": "markdown",
      "metadata": {
        "id": "view-in-github",
        "colab_type": "text"
      },
      "source": [
        "<a href=\"https://colab.research.google.com/github/kaosar100/Kaosar-AHmed/blob/master/CSI_382_Data_Minining_and_Knowledge_Discovery_Sessional_Introduction_to_Python_Part_1.ipynb\" target=\"_parent\"><img src=\"https://colab.research.google.com/assets/colab-badge.svg\" alt=\"Open In Colab\"/></a>"
      ]
    },
    {
      "cell_type": "markdown",
      "metadata": {
        "id": "4yobAKCM6lqE"
      },
      "source": [
        "# **CSI 382 - Data Minining and Knowledge Discovery Sessional**\n",
        "\n",
        "## **Introduction to Python - Part 1**\n",
        "\n",
        "Here we will dive into python programming language. Each cell will contain some code and you can run it inside the browser.\n",
        "\n",
        "You can also write code into adjacent cells and play with it as you want.\n",
        "\n",
        "Let's get on!"
      ]
    },
    {
      "cell_type": "code",
      "source": [
        "import ColabTurtle.Turtle as kaosar\n",
        "\n",
        "kaosar.initializeTurtle(initial_speed=5) \n",
        "kaosar.shape(\"turtle\")\n",
        "kaosar.speed(7)\n",
        "kaosar.color(\"green\")\n",
        "k = 0;\n",
        "color = [\"red\", \"green\", \"orange\", \"blue\"]\n",
        "\n",
        "for i in range(36):\n",
        "  for j in range(4):\n",
        "    kaosar.forward(180)\n",
        "    kaosar.left(90)\n",
        "  kaosar.left(10)\n",
        "  if(k > 3): k = 0\n",
        "  kaosar.color(color[k])\n",
        "  k += 1\n",
        "\n",
        "   "
      ],
      "metadata": {
        "id": "aO9nOu2Ha9YL"
      },
      "execution_count": null,
      "outputs": []
    },
    {
      "cell_type": "code",
      "source": [
        "!pip3 install ColabTurtle\n"
      ],
      "metadata": {
        "id": "yrk-svzSdPrb"
      },
      "execution_count": null,
      "outputs": []
    },
    {
      "cell_type": "markdown",
      "metadata": {
        "id": "h5feyySc7XgX"
      },
      "source": [
        "# **1.1 First program in python**\n",
        "\n",
        "This is a very simple program to demonstrate the interpretation of a python compiler. Here we are simply printing two values to check the output stream of our compiler.<br>\n",
        "\n",
        "N.B: Click on the little play button on the left to run the program."
      ]
    },
    {
      "cell_type": "code",
      "metadata": {
        "id": "i7x3iSRM6hVy"
      },
      "source": [
        "print(\"Hello World!\")\n",
        "print(\"This is my first program in python\")"
      ],
      "execution_count": null,
      "outputs": []
    },
    {
      "cell_type": "markdown",
      "metadata": {
        "id": "_pQU3pJP793W"
      },
      "source": [
        "**Expected Output:**\n",
        "\n",
        "Hello World <br>\n",
        "This is my first program in python"
      ]
    },
    {
      "cell_type": "markdown",
      "metadata": {
        "id": "ncbCyYu68RJm"
      },
      "source": [
        "# **1.2 Another example of a python program**\n",
        "\n",
        "In this example we will see how we can generate a list of prime numbers that are located between a lower and an upper bound.<br>\n",
        "For example, between 1 and 10 there are 4 prime numbers, i.e., 2, 3, 5, 7."
      ]
    },
    {
      "cell_type": "code",
      "metadata": {
        "id": "1Mw69M0R9IEQ"
      },
      "source": [
        "import math as m\n",
        "lower = 1\n",
        "upper = 1000\n",
        "\n",
        "print(\"Prime numbers between\", lower, \"and\", upper, \"are:\")\n",
        "\n",
        "for num in range(lower, upper + 1):\n",
        "   # all prime numbers are greater than 1\n",
        "    if num > 1:\n",
        "        for i in range(2, int(m.sqrt(num))+1):\n",
        "            if (num % i) == 0:\n",
        "                break\n",
        "        else:\n",
        "            print(num)"
      ],
      "execution_count": null,
      "outputs": []
    },
    {
      "cell_type": "markdown",
      "metadata": {
        "id": "NX3QSGMY9gSV"
      },
      "source": [
        "**Expected Output:**\n",
        "\n",
        "Prime numbers between 1 and 1000 are:<br>\n",
        "2<br>\n",
        "3<br>\n",
        ".<br>\n",
        ".<br>\n",
        ".<br>\n",
        "983<br>\n",
        "991<br>\n",
        "997"
      ]
    },
    {
      "cell_type": "markdown",
      "metadata": {
        "id": "LgfQEOodDZs_"
      },
      "source": [
        "# **Excercise**\n",
        "\n",
        "Complete the following program that will show the details of you in Stamford University Bangladesh."
      ]
    },
    {
      "cell_type": "code",
      "metadata": {
        "id": "jv4ApuwfDsQ1"
      },
      "source": [
        "#Fill in the blanks with your student ID\n",
        "print(\"My student ID is: CSE 066 12345\")\n",
        "#Fill in the blanks with your name\n",
        "print(\"My name is: John Doe\")\n",
        "#Fill in the blanks with district\n",
        "print(\"My home district is: Gazipur\")\n",
        "###############Write your code here#######################\n",
        "print(\"My admission date is: 01/07/2020\")\n",
        "print(\"My registered courses are: \")\n",
        "print(\"1. CSI 115 - Computer and Programming Concept.\")\n",
        "print(\"2. MATH 135 - Discrete mathematics\")\n",
        "print(\"3. EEE 193 - Electrical Circuits and Devices\")\n",
        "print(\"4. PHY 217 - Physics\")\n",
        "print(\"5. ENGL 100 - English Fundamentals\")\n",
        "##########################################################\n",
        "print(\"That's all for today!\")\n"
      ],
      "execution_count": null,
      "outputs": []
    },
    {
      "cell_type": "markdown",
      "metadata": {
        "id": "TsyZlJnfHkB7"
      },
      "source": [
        "**Expected Output:**\n",
        "\n",
        "My student ID is: CSE 066 12345<br>\n",
        "My name is: John Doe<br>\n",
        "My home district is: Dhaka<br>\n",
        "My admission date is: 1 July 2018<br>\n",
        "My registered courses are: <br>\n",
        "CSI 381 - Data Minining and Knowledge Discovery<br>\n",
        "CSI 382 - Data Minining and Knowledge Discovery Sessional<br>\n",
        "...<br>\n"
      ]
    },
    {
      "cell_type": "markdown",
      "metadata": {
        "id": "xCWNH0oBhXiL"
      },
      "source": [
        "# **That's all for Part 1!**"
      ]
    }
  ]
}