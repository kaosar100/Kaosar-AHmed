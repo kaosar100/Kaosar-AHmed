{
  "nbformat": 4,
  "nbformat_minor": 0,
  "metadata": {
    "colab": {
      "name": "CSI 382 - Data Minining and Knowledge Discovery Sessional - Introduction to Python - Part 2.ipynb",
      "provenance": [],
      "collapsed_sections": [],
      "include_colab_link": true
    },
    "kernelspec": {
      "name": "python3",
      "display_name": "Python 3"
    }
  },
  "cells": [
    {
      "cell_type": "markdown",
      "metadata": {
        "id": "view-in-github",
        "colab_type": "text"
      },
      "source": [
        "<a href=\"https://colab.research.google.com/github/kaosar100/Kaosar-AHmed/blob/master/CSI_382_Data_Minining_and_Knowledge_Discovery_Sessional_Introduction_to_Python_Part_2.ipynb\" target=\"_parent\"><img src=\"https://colab.research.google.com/assets/colab-badge.svg\" alt=\"Open In Colab\"/></a>"
      ]
    },
    {
      "cell_type": "markdown",
      "metadata": {
        "id": "4yobAKCM6lqE"
      },
      "source": [
        "# **CSI 382 - Data Minining and Knowledge Discovery Sessional**\n",
        "\n",
        "## **Introduction to Python - Part 2**\n",
        "\n",
        "Here we will dive into details of variables, common data types, statements and expressions that are used in a Python script. Each cell will contain some code and you can run it inside the browser.\n",
        "\n",
        "You can also write code into adjacent cells and play with it as you want.\n",
        "\n",
        "Let's get on!"
      ]
    },
    {
      "cell_type": "markdown",
      "metadata": {
        "id": "h5feyySc7XgX"
      },
      "source": [
        "# **2.1 Variables**\n",
        "\n",
        "**A variable is a name that refers to a value.**<br>\n",
        "\n",
        "Very simply put, we use a variable when we want to store some data\n",
        "in our program. Every variable is connected to a value, which is the\n",
        "information associated with that variable.\n"
      ]
    },
    {
      "cell_type": "code",
      "metadata": {
        "id": "i7x3iSRM6hVy",
        "outputId": "85262576-e73f-4680-fae0-2645f9045e54",
        "colab": {
          "base_uri": "https://localhost:8080/"
        }
      },
      "source": [
        "message = \"Hello World\"\n",
        "print(message)\n",
        "message = \"This is my first program in Python\"\n",
        "print(message)\n"
      ],
      "execution_count": null,
      "outputs": [
        {
          "output_type": "stream",
          "name": "stdout",
          "text": [
            "Hello World\n",
            "This is my first program in Python\n"
          ]
        }
      ]
    },
    {
      "cell_type": "markdown",
      "metadata": {
        "id": "ncbCyYu68RJm"
      },
      "source": [
        "## **2.1.1 Variable Naming**\n",
        "\n",
        "Programmers generally choose names for their variables that are meaningful—they document what the variable is used for."
      ]
    },
    {
      "cell_type": "code",
      "metadata": {
        "id": "1Mw69M0R9IEQ"
      },
      "source": [
        "message = \"And now for something completely different\"\n",
        "n = 17\n",
        "pi = 3.1415926535897932"
      ],
      "execution_count": null,
      "outputs": []
    },
    {
      "cell_type": "markdown",
      "metadata": {
        "id": "LgfQEOodDZs_"
      },
      "source": [
        "# **2.2 Assignment Statements**\n",
        "\n",
        "An **assignment statement** creates a new variable and gives it a value."
      ]
    },
    {
      "cell_type": "code",
      "metadata": {
        "id": "jv4ApuwfDsQ1"
      },
      "source": [
        "message = \"And now for something completely different\"\n",
        "n = 17\n",
        "pi = 3.1415926535897932"
      ],
      "execution_count": null,
      "outputs": []
    },
    {
      "cell_type": "markdown",
      "metadata": {
        "id": "p-jPFUABVgj0"
      },
      "source": [
        "# **2.3 Expressions and Statements**\n",
        "# **2.3.1 Expressions**\n",
        "\n",
        "An **expression** is a combination of values, variables, and operators. A value all by itself is considered an expression, and so is a variable, so the following are all legal expressions:"
      ]
    },
    {
      "cell_type": "code",
      "metadata": {
        "id": "lmr2XG8aVyC8",
        "colab": {
          "base_uri": "https://localhost:8080/"
        },
        "outputId": "77725333-3b56-4b81-d4f2-7dbf4f0c7c9d"
      },
      "source": [
        "n = 17\n",
        "n + 25"
      ],
      "execution_count": null,
      "outputs": [
        {
          "output_type": "execute_result",
          "data": {
            "text/plain": [
              "42"
            ]
          },
          "metadata": {},
          "execution_count": 7
        }
      ]
    },
    {
      "cell_type": "markdown",
      "metadata": {
        "id": "zEnJ7IoCWOL8"
      },
      "source": [
        "## **2.3.2 Statements**\n",
        "\n",
        "A **statement** is a unit of code that has an effect, like creating a variable or displaying a value."
      ]
    },
    {
      "cell_type": "code",
      "metadata": {
        "id": "jkd8Dvk1WF3s",
        "colab": {
          "base_uri": "https://localhost:8080/"
        },
        "outputId": "9899b303-c99f-493a-c604-181381d944b1"
      },
      "source": [
        "n = 17\n",
        "print(n)"
      ],
      "execution_count": null,
      "outputs": [
        {
          "output_type": "stream",
          "name": "stdout",
          "text": [
            "17\n"
          ]
        }
      ]
    },
    {
      "cell_type": "markdown",
      "metadata": {
        "id": "I7p12ULaWjnL"
      },
      "source": [
        "# **2.4 Script Mode**\n",
        "\n",
        "So far we have run Python in **interactive mode**, which means that you interact directly with the interpreter. Interactive mode is a good way to get started, but if you are working with more than a few lines of code, it can be clumsy."
      ]
    },
    {
      "cell_type": "code",
      "metadata": {
        "id": "JaVw9sI1WtA8",
        "colab": {
          "base_uri": "https://localhost:8080/"
        },
        "outputId": "c77c2174-28b8-499a-a6c3-7c013cfa5356"
      },
      "source": [
        "miles = 26.2\n",
        "miles * 1.61"
      ],
      "execution_count": null,
      "outputs": [
        {
          "output_type": "execute_result",
          "data": {
            "text/plain": [
              "42.182"
            ]
          },
          "metadata": {},
          "execution_count": 9
        }
      ]
    },
    {
      "cell_type": "markdown",
      "metadata": {
        "id": "GROh7ZgzW8Zb"
      },
      "source": [
        "The alternative is to save code in a file called a **script** and then run the interpreter in **script mode** to execute the script. By convention, Python scripts have names that end with *.py*."
      ]
    },
    {
      "cell_type": "code",
      "metadata": {
        "id": "TeiWEgo7XGH8",
        "colab": {
          "base_uri": "https://localhost:8080/"
        },
        "outputId": "44b533ae-a300-4e7f-b00d-b63c25ed5490"
      },
      "source": [
        "miles = 26.2\n",
        "print(miles * 1.61)"
      ],
      "execution_count": null,
      "outputs": [
        {
          "output_type": "stream",
          "name": "stdout",
          "text": [
            "42.182\n"
          ]
        }
      ]
    },
    {
      "cell_type": "markdown",
      "metadata": {
        "id": "ip7f4h18bRgd"
      },
      "source": [
        "# **2.5 Strings**\n",
        "\n",
        "A **string** is a series of characters. Anything inside quotes is considered a string in Python, and you can use single or double quotes around your strings like this:"
      ]
    },
    {
      "cell_type": "code",
      "metadata": {
        "id": "Hd9ADnDjbd0c",
        "colab": {
          "base_uri": "https://localhost:8080/",
          "height": 35
        },
        "outputId": "b1fb7354-977f-4373-b028-3c93b1c65894"
      },
      "source": [
        "\"This is a string.\"\n",
        "'This is also a string.'"
      ],
      "execution_count": null,
      "outputs": [
        {
          "output_type": "execute_result",
          "data": {
            "application/vnd.google.colaboratory.intrinsic+json": {
              "type": "string"
            },
            "text/plain": [
              "'This is also a string.'"
            ]
          },
          "metadata": {},
          "execution_count": 13
        }
      ]
    },
    {
      "cell_type": "markdown",
      "metadata": {
        "id": "dxERc8eAbnLr"
      },
      "source": [
        "This flexibility allows you to use quotes and apostrophes within your\n",
        "strings:"
      ]
    },
    {
      "cell_type": "code",
      "metadata": {
        "id": "SpJ03-pnbomM",
        "colab": {
          "base_uri": "https://localhost:8080/",
          "height": 35
        },
        "outputId": "75eef3a3-ef5f-4aaf-a5a0-73526f262871"
      },
      "source": [
        "'I told my friend, \"Python is my favorite language!\"'"
      ],
      "execution_count": null,
      "outputs": [
        {
          "output_type": "execute_result",
          "data": {
            "application/vnd.google.colaboratory.intrinsic+json": {
              "type": "string"
            },
            "text/plain": [
              "'I told my friend, \"Python is my favorite language!\"'"
            ]
          },
          "metadata": {},
          "execution_count": 14
        }
      ]
    },
    {
      "cell_type": "code",
      "metadata": {
        "id": "-zJSBBAjc0f9",
        "colab": {
          "base_uri": "https://localhost:8080/",
          "height": 35
        },
        "outputId": "7aadc4fd-2a2e-497a-dc3f-178b9565f3f5"
      },
      "source": [
        "\"The language 'Python' is named after Monty Python, not the snake.\""
      ],
      "execution_count": null,
      "outputs": [
        {
          "output_type": "execute_result",
          "data": {
            "application/vnd.google.colaboratory.intrinsic+json": {
              "type": "string"
            },
            "text/plain": [
              "\"The language 'Python' is named after Monty Python, not the snake.\""
            ]
          },
          "metadata": {},
          "execution_count": 15
        }
      ]
    },
    {
      "cell_type": "code",
      "metadata": {
        "id": "klcfSN5Nc2HG",
        "colab": {
          "base_uri": "https://localhost:8080/",
          "height": 35
        },
        "outputId": "0649f0a6-d136-4224-9c8b-3b3b19b240be"
      },
      "source": [
        "\"One of Python's strengths is its diverse and supportive community.\""
      ],
      "execution_count": null,
      "outputs": [
        {
          "output_type": "execute_result",
          "data": {
            "application/vnd.google.colaboratory.intrinsic+json": {
              "type": "string"
            },
            "text/plain": [
              "\"One of Python's strengths is its diverse and supportive community.\""
            ]
          },
          "metadata": {},
          "execution_count": 16
        }
      ]
    },
    {
      "cell_type": "markdown",
      "metadata": {
        "id": "cNWWofMvbt9D"
      },
      "source": [
        "# **2.6 String Manipulation Techniques**\n",
        "## **2.6.1 Changing Case in a String with Methods**\n",
        "\n",
        "One of the simplest tasks you can do with strings is change the case of the words in a string."
      ]
    },
    {
      "cell_type": "code",
      "metadata": {
        "id": "9r5vsZ7mcJu6",
        "colab": {
          "base_uri": "https://localhost:8080/"
        },
        "outputId": "2c2d27f8-19ce-4b72-ea4b-615d62067664"
      },
      "source": [
        "name = \"charlie chaplin\"\n",
        "print(name.title())\n",
        "\n",
        "print(name.encode())"
      ],
      "execution_count": 3,
      "outputs": [
        {
          "output_type": "stream",
          "name": "stdout",
          "text": [
            "Charlie Chaplin\n",
            "b'charlie chaplin'\n"
          ]
        }
      ]
    },
    {
      "cell_type": "markdown",
      "metadata": {
        "id": "E4H0ap_DcRHz"
      },
      "source": [
        "A **method** is an action that Python can perform on a piece of data. The dot **(.)** after name in **name.title()** tells Python to make the **title()** method act on the variable name.\n",
        "\n",
        "Several other useful methods are available for dealing with case as well. For example, you can change a string to all uppercase or all lowercase letters like this:"
      ]
    },
    {
      "cell_type": "code",
      "metadata": {
        "id": "35BcY3R5cf18",
        "colab": {
          "base_uri": "https://localhost:8080/"
        },
        "outputId": "dfdd8f29-dfc5-4502-e781-441b6f349b40"
      },
      "source": [
        "name = \"Charlie Chaplin\"\n",
        "print(name.upper())\n",
        "print(name.lower())"
      ],
      "execution_count": null,
      "outputs": [
        {
          "output_type": "stream",
          "name": "stdout",
          "text": [
            "CHARLIE CHAPLIN\n",
            "charlie chaplin\n"
          ]
        }
      ]
    },
    {
      "cell_type": "markdown",
      "metadata": {
        "id": "qF_BRVnRcnQU"
      },
      "source": [
        "## **2.6.2 Using Variables in Strings**\n",
        "\n",
        "In some situations, you’ll want to use a variable’s value inside a string. For example, you might want two variables to represent a first name and a last name respectively, and then want to combine those values to display someone’s full name:"
      ]
    },
    {
      "cell_type": "code",
      "metadata": {
        "id": "Ly8KAWpicuJz",
        "colab": {
          "base_uri": "https://localhost:8080/"
        },
        "outputId": "01616b1a-72ba-46ce-e93b-1eeecd8c16bd"
      },
      "source": [
        "first_name = \"charlie\"\n",
        "last_name = \"chaplin\"\n",
        "full_name = f\"The full name is: {first_name} {last_name}\"\n",
        "print(full_name)"
      ],
      "execution_count": null,
      "outputs": [
        {
          "output_type": "stream",
          "name": "stdout",
          "text": [
            "The full name is: charlie chaplin\n"
          ]
        }
      ]
    },
    {
      "cell_type": "markdown",
      "metadata": {
        "id": "YiM5N7y2cy_E"
      },
      "source": [
        "You can use **f-strings** to compose complete messages using the information associated with a variable, as shown here: "
      ]
    },
    {
      "cell_type": "code",
      "metadata": {
        "id": "IwogEwEuc43t",
        "colab": {
          "base_uri": "https://localhost:8080/"
        },
        "outputId": "f5cb4b90-e45f-4273-e3ef-bcda459a036c"
      },
      "source": [
        "first_name = \"charlie\"\n",
        "last_name = \"chaplin\"\n",
        "full_name = f\"{first_name} {last_name}\"\n",
        "print(f\"Hello, {full_name.title()}!\")"
      ],
      "execution_count": null,
      "outputs": [
        {
          "output_type": "stream",
          "name": "stdout",
          "text": [
            "Hello, Charlie Chaplin!\n"
          ]
        }
      ]
    },
    {
      "cell_type": "markdown",
      "metadata": {
        "id": "pR6FErZSc7a7"
      },
      "source": [
        "You can also use **f-strings** to compose a message, and then assign the entire message to a variable:"
      ]
    },
    {
      "cell_type": "code",
      "metadata": {
        "id": "fuNdpd76c93b",
        "colab": {
          "base_uri": "https://localhost:8080/"
        },
        "outputId": "594c76e1-ce4e-4709-f5c8-d8850c654cdb"
      },
      "source": [
        "first_name = \"charlie\"\n",
        "last_name = \"chaplin\"\n",
        "full_name = f\"{first_name} {last_name}\"\n",
        "message = f\"Hello, {full_name.title()}!\" \n",
        "print(message)"
      ],
      "execution_count": null,
      "outputs": [
        {
          "output_type": "stream",
          "name": "stdout",
          "text": [
            "Hello, Charlie Chaplin!\n"
          ]
        }
      ]
    },
    {
      "cell_type": "markdown",
      "metadata": {
        "id": "yHj9NkKVdDCj"
      },
      "source": [
        "## **2.6.2 Adding Whitespace to Strings with Tabs or Newlines**\n",
        "\n",
        "In programming, **whitespace** refers to any nonprinting character, such as spaces, tabs, and end-of-line symbols. You can use whitespace to organize your output so it’s easier for users to read.\n",
        "\n",
        "To add a tab to your text, use the character combination **\\t** as shown here:"
      ]
    },
    {
      "cell_type": "code",
      "metadata": {
        "id": "m9decn1kdL3s",
        "colab": {
          "base_uri": "https://localhost:8080/"
        },
        "outputId": "8e03c80e-42ca-432a-ecd7-0c4f4032bd04"
      },
      "source": [
        "print(\"Python\")\n",
        "print(\"\\tPython\")"
      ],
      "execution_count": null,
      "outputs": [
        {
          "output_type": "stream",
          "name": "stdout",
          "text": [
            "Python\n",
            "\tPython\n"
          ]
        }
      ]
    },
    {
      "cell_type": "markdown",
      "metadata": {
        "id": "Uj4kzoImdbr0"
      },
      "source": [
        "To add a newline in a string, use the character combination **\\n**:"
      ]
    },
    {
      "cell_type": "code",
      "metadata": {
        "id": "o4fJ5-bGdhCD",
        "colab": {
          "base_uri": "https://localhost:8080/"
        },
        "outputId": "af110a37-e619-4387-ee90-bc38cfd644e3"
      },
      "source": [
        "print(\"Languages:\\nPython\\nC\\nJavaScript\")"
      ],
      "execution_count": null,
      "outputs": [
        {
          "output_type": "stream",
          "name": "stdout",
          "text": [
            "Languages:\n",
            "Python\n",
            "C\n",
            "JavaScript\n"
          ]
        }
      ]
    },
    {
      "cell_type": "markdown",
      "metadata": {
        "id": "HUZjhNAMdh8z"
      },
      "source": [
        "You can also combine tabs and newlines in a single string. The string **\"\\n \\t\"** tells Python to move to a new line, and start the next line with a tab.\n",
        "The following example shows how you can use a one-line string to generate four lines of output:"
      ]
    },
    {
      "cell_type": "code",
      "metadata": {
        "id": "UQe5yeYGdq7r",
        "colab": {
          "base_uri": "https://localhost:8080/"
        },
        "outputId": "6bd75245-32d9-4836-f9cd-00374851bbd6"
      },
      "source": [
        "print(\"Languages:\\n\\tPython\\n\\tC\\n\\tJavaScript\")"
      ],
      "execution_count": null,
      "outputs": [
        {
          "output_type": "stream",
          "name": "stdout",
          "text": [
            "Languages:\n",
            "\tPython\n",
            "\tC\n",
            "\tJavaScript\n"
          ]
        }
      ]
    },
    {
      "cell_type": "markdown",
      "metadata": {
        "id": "LVodtY_tdtU7"
      },
      "source": [
        "# **2.7 Numbers**\n",
        "## **2.7.1 Integers**\n",
        "\n",
        "You can **add (+), subtract (-), multiply (*), and divide (/)** integers in Python. "
      ]
    },
    {
      "cell_type": "code",
      "metadata": {
        "id": "ChzINwVDd8IL",
        "colab": {
          "base_uri": "https://localhost:8080/"
        },
        "outputId": "f3df1772-feaf-4030-a43f-7112e295bd1d"
      },
      "source": [
        "print(2 + 3)"
      ],
      "execution_count": null,
      "outputs": [
        {
          "output_type": "stream",
          "name": "stdout",
          "text": [
            "5\n"
          ]
        }
      ]
    },
    {
      "cell_type": "code",
      "metadata": {
        "id": "akdylshdeEqb",
        "colab": {
          "base_uri": "https://localhost:8080/"
        },
        "outputId": "c5ec5393-6c8a-43d8-ee9f-09c1d16e0d2a"
      },
      "source": [
        "3 - 2"
      ],
      "execution_count": null,
      "outputs": [
        {
          "output_type": "execute_result",
          "data": {
            "text/plain": [
              "1"
            ]
          },
          "metadata": {},
          "execution_count": 26
        }
      ]
    },
    {
      "cell_type": "code",
      "metadata": {
        "id": "LuvGTjjieGz0",
        "colab": {
          "base_uri": "https://localhost:8080/"
        },
        "outputId": "07863280-e581-402f-8df0-f8dc530bc051"
      },
      "source": [
        "2 * 3"
      ],
      "execution_count": null,
      "outputs": [
        {
          "output_type": "execute_result",
          "data": {
            "text/plain": [
              "6"
            ]
          },
          "metadata": {},
          "execution_count": 27
        }
      ]
    },
    {
      "cell_type": "code",
      "metadata": {
        "id": "-flSNNWEeIpz",
        "colab": {
          "base_uri": "https://localhost:8080/"
        },
        "outputId": "ed6c0414-bcd0-4233-d49b-050946be0418"
      },
      "source": [
        "3 / 3"
      ],
      "execution_count": 4,
      "outputs": [
        {
          "output_type": "execute_result",
          "data": {
            "text/plain": [
              "1.0"
            ]
          },
          "metadata": {},
          "execution_count": 4
        }
      ]
    },
    {
      "cell_type": "markdown",
      "metadata": {
        "id": "UcKBszJteUh0"
      },
      "source": [
        "In a terminal session, Python simply returns the result of the operation. Python uses **two multiplication symbols** to represent exponents:"
      ]
    },
    {
      "cell_type": "code",
      "metadata": {
        "id": "0xCeNglteY1m",
        "colab": {
          "base_uri": "https://localhost:8080/"
        },
        "outputId": "0ce2b89a-74ee-4dab-eb31-8645ecdfc120"
      },
      "source": [
        "3 ** 2"
      ],
      "execution_count": null,
      "outputs": [
        {
          "output_type": "execute_result",
          "data": {
            "text/plain": [
              "9"
            ]
          },
          "metadata": {},
          "execution_count": 29
        }
      ]
    },
    {
      "cell_type": "code",
      "metadata": {
        "id": "JKH9goNseZZr",
        "colab": {
          "base_uri": "https://localhost:8080/"
        },
        "outputId": "9b15307d-2207-41a2-cb9e-5c8f291ae1a1"
      },
      "source": [
        "3 ** 3"
      ],
      "execution_count": null,
      "outputs": [
        {
          "output_type": "execute_result",
          "data": {
            "text/plain": [
              "27"
            ]
          },
          "metadata": {},
          "execution_count": 30
        }
      ]
    },
    {
      "cell_type": "code",
      "metadata": {
        "id": "KW6wM8i2ecZD",
        "colab": {
          "base_uri": "https://localhost:8080/"
        },
        "outputId": "b2662d6d-632a-4a75-cc74-c6d8b8c3dc2c"
      },
      "source": [
        "10 ** 6"
      ],
      "execution_count": null,
      "outputs": [
        {
          "output_type": "execute_result",
          "data": {
            "text/plain": [
              "1000000"
            ]
          },
          "metadata": {},
          "execution_count": 31
        }
      ]
    },
    {
      "cell_type": "markdown",
      "metadata": {
        "id": "1e8yGEAaedo8"
      },
      "source": [
        "Python supports the **order of operations** too, so you can use multiple operations in one expression. You can also use parentheses to modify the order of operations so Python can evaluate your expression in the order you specify. For example:"
      ]
    },
    {
      "cell_type": "code",
      "metadata": {
        "id": "PNanu4n1ejb7",
        "colab": {
          "base_uri": "https://localhost:8080/"
        },
        "outputId": "8b70402c-59bf-4299-ed96-f23f0cb4878f"
      },
      "source": [
        "2 + 3 * 4"
      ],
      "execution_count": null,
      "outputs": [
        {
          "output_type": "execute_result",
          "data": {
            "text/plain": [
              "14"
            ]
          },
          "metadata": {},
          "execution_count": 32
        }
      ]
    },
    {
      "cell_type": "code",
      "metadata": {
        "id": "rqCGA4jvelPU",
        "colab": {
          "base_uri": "https://localhost:8080/"
        },
        "outputId": "8ce216f7-105f-4636-c4de-61e37dd282f2"
      },
      "source": [
        "(2 + 3) * 4"
      ],
      "execution_count": null,
      "outputs": [
        {
          "output_type": "execute_result",
          "data": {
            "text/plain": [
              "20"
            ]
          },
          "metadata": {},
          "execution_count": 33
        }
      ]
    },
    {
      "cell_type": "markdown",
      "metadata": {
        "id": "hPHzXbkMenkc"
      },
      "source": [
        "## **2.7.2 Floats**\n",
        "\n",
        "Python calls any number with a decimal point a float. This term is used in most programming languages, and it refers to the fact that a decimal point can appear at any position in a number. Every programming language must be carefully designed to properly manage decimal numbers so numbers behave appropriately no matter where the decimal point appears."
      ]
    },
    {
      "cell_type": "code",
      "metadata": {
        "id": "mf1ei4PYew00",
        "colab": {
          "base_uri": "https://localhost:8080/"
        },
        "outputId": "ffbb1173-148e-4d2a-9eeb-ae53cfd78805"
      },
      "source": [
        "0.1 + 0.1"
      ],
      "execution_count": null,
      "outputs": [
        {
          "output_type": "execute_result",
          "data": {
            "text/plain": [
              "0.2"
            ]
          },
          "metadata": {},
          "execution_count": 34
        }
      ]
    },
    {
      "cell_type": "code",
      "metadata": {
        "id": "YrZ7bn-oeyiU",
        "colab": {
          "base_uri": "https://localhost:8080/"
        },
        "outputId": "d20db2ca-bbce-4f56-e557-0cb370933b9e"
      },
      "source": [
        "0.2 + 0.2"
      ],
      "execution_count": null,
      "outputs": [
        {
          "output_type": "execute_result",
          "data": {
            "text/plain": [
              "0.4"
            ]
          },
          "metadata": {},
          "execution_count": 35
        }
      ]
    },
    {
      "cell_type": "code",
      "metadata": {
        "id": "ZDc-zPFkez5E",
        "colab": {
          "base_uri": "https://localhost:8080/"
        },
        "outputId": "0110593d-ef4f-48de-da67-6ddb2c6ee0b5"
      },
      "source": [
        "2 * 0.1"
      ],
      "execution_count": null,
      "outputs": [
        {
          "output_type": "execute_result",
          "data": {
            "text/plain": [
              "0.2"
            ]
          },
          "metadata": {},
          "execution_count": 36
        }
      ]
    },
    {
      "cell_type": "code",
      "metadata": {
        "id": "i4hzgIYze1V0",
        "colab": {
          "base_uri": "https://localhost:8080/"
        },
        "outputId": "74521b86-7a15-48c6-a59f-361e209fc244"
      },
      "source": [
        "2 * 0.2"
      ],
      "execution_count": null,
      "outputs": [
        {
          "output_type": "execute_result",
          "data": {
            "text/plain": [
              "0.4"
            ]
          },
          "metadata": {},
          "execution_count": 37
        }
      ]
    },
    {
      "cell_type": "markdown",
      "metadata": {
        "id": "XeCCpv_Be2Nc"
      },
      "source": [
        "But be aware that you can sometimes get an **arbitrary number** of decimal places in your answer:"
      ]
    },
    {
      "cell_type": "code",
      "metadata": {
        "id": "g5DfJhnBe4xU",
        "colab": {
          "base_uri": "https://localhost:8080/"
        },
        "outputId": "99760e94-8d75-4380-fceb-efae9b1d0d3e"
      },
      "source": [
        "0.2 + 0.1"
      ],
      "execution_count": null,
      "outputs": [
        {
          "output_type": "execute_result",
          "data": {
            "text/plain": [
              "0.30000000000000004"
            ]
          },
          "metadata": {},
          "execution_count": 38
        }
      ]
    },
    {
      "cell_type": "code",
      "metadata": {
        "id": "pz-PoQ1Pe6pE",
        "colab": {
          "base_uri": "https://localhost:8080/"
        },
        "outputId": "10777c26-66fb-4496-d8d3-ea146925ddcb"
      },
      "source": [
        "3 * 0.1"
      ],
      "execution_count": 5,
      "outputs": [
        {
          "output_type": "execute_result",
          "data": {
            "text/plain": [
              "0.30000000000000004"
            ]
          },
          "metadata": {},
          "execution_count": 5
        }
      ]
    },
    {
      "cell_type": "markdown",
      "metadata": {
        "id": "Eb01OuY7fCoG"
      },
      "source": [
        "This happens in all languages and is of little concern. Python tries to find a way to represent the result as **precisely as possible**, which is sometimes difficult given how computers have to represent numbers internally."
      ]
    },
    {
      "cell_type": "markdown",
      "metadata": {
        "id": "9VElzYUvfJyE"
      },
      "source": [
        "## **2.7.3 Integers and Floats**\n",
        "\n",
        "When you divide any two numbers, even if they are integers that result in a whole number, you’ll **always get a float**:"
      ]
    },
    {
      "cell_type": "code",
      "metadata": {
        "id": "W8zS9BNKfVpc",
        "colab": {
          "base_uri": "https://localhost:8080/"
        },
        "outputId": "489086ab-d195-415b-9cc2-48829b2d359e"
      },
      "source": [
        "4/2"
      ],
      "execution_count": null,
      "outputs": [
        {
          "output_type": "execute_result",
          "data": {
            "text/plain": [
              "2.0"
            ]
          },
          "metadata": {},
          "execution_count": 42
        }
      ]
    },
    {
      "cell_type": "markdown",
      "metadata": {
        "id": "xsUiyx_RfWad"
      },
      "source": [
        "If you mix an integer and a float in any other operation, you’ll get a float as well:"
      ]
    },
    {
      "cell_type": "code",
      "metadata": {
        "id": "gUkNJmzGfYUc",
        "colab": {
          "base_uri": "https://localhost:8080/"
        },
        "outputId": "984b856c-4c98-4f63-aaed-471da3836b53"
      },
      "source": [
        "1 + 2.0"
      ],
      "execution_count": null,
      "outputs": [
        {
          "output_type": "execute_result",
          "data": {
            "text/plain": [
              "3.0"
            ]
          },
          "metadata": {},
          "execution_count": 43
        }
      ]
    },
    {
      "cell_type": "code",
      "metadata": {
        "id": "FpxC9S0mfaB8",
        "colab": {
          "base_uri": "https://localhost:8080/"
        },
        "outputId": "beccdef7-31d6-4660-8cc8-90363f1f8363"
      },
      "source": [
        "2 * 3.0"
      ],
      "execution_count": null,
      "outputs": [
        {
          "output_type": "execute_result",
          "data": {
            "text/plain": [
              "6.0"
            ]
          },
          "metadata": {},
          "execution_count": 44
        }
      ]
    },
    {
      "cell_type": "code",
      "metadata": {
        "id": "tRv5s5QxfdL2",
        "colab": {
          "base_uri": "https://localhost:8080/"
        },
        "outputId": "89907b6f-ba59-45a6-d3ba-a3ab5f342242"
      },
      "source": [
        "3.0 ** 2"
      ],
      "execution_count": null,
      "outputs": [
        {
          "output_type": "execute_result",
          "data": {
            "text/plain": [
              "9.0"
            ]
          },
          "metadata": {},
          "execution_count": 45
        }
      ]
    },
    {
      "cell_type": "markdown",
      "metadata": {
        "id": "nWCZ66yHfej1"
      },
      "source": [
        "Python defaults to a float in any operation that uses a float, even if the output is a whole number. "
      ]
    },
    {
      "cell_type": "markdown",
      "metadata": {
        "id": "MMAgkxhofjxG"
      },
      "source": [
        "## **2.7.4 Underscores in Numbers**\n",
        "\n",
        "When you’re writing long numbers, you can group digits using underscores to make large numbers more readable. When you print a number that was defined using underscores, Python prints only the digits:"
      ]
    },
    {
      "cell_type": "code",
      "metadata": {
        "id": "lY3C0aidfrfl",
        "colab": {
          "base_uri": "https://localhost:8080/"
        },
        "outputId": "89112722-8277-414b-d68a-eaf6ed735628"
      },
      "source": [
        "universe_age = 13_770_000_000\n",
        "print(universe_age)"
      ],
      "execution_count": null,
      "outputs": [
        {
          "output_type": "stream",
          "name": "stdout",
          "text": [
            "13770000000\n"
          ]
        }
      ]
    },
    {
      "cell_type": "markdown",
      "metadata": {
        "id": "he-Rj02sfxJ9"
      },
      "source": [
        "To Python, **1000** is the same as **1_000**, which is the same as **10_00**. This feature works for integers and floats, but it’s only available in **Python 3.6** and later."
      ]
    },
    {
      "cell_type": "markdown",
      "metadata": {
        "id": "183REmNqf_N9"
      },
      "source": [
        "# **2.8 Multiple Assignments**\n",
        "\n",
        "You can assign values to more than one variable using just a single line.\n",
        "\n",
        "For example, here’s how you can initialize the variables x, y, and z to zero:"
      ]
    },
    {
      "cell_type": "code",
      "metadata": {
        "id": "eZjBBk9TgJFG"
      },
      "source": [
        "x, y, z = 0, 0, 0"
      ],
      "execution_count": null,
      "outputs": []
    },
    {
      "cell_type": "markdown",
      "metadata": {
        "id": "03qjxJU7gMn0"
      },
      "source": [
        "# **2.9 Constants**\n",
        "\n",
        "A **constant** is like a variable whose value stays the same throughout the life\n",
        "of a program. Python doesn’t have built-in constant types, but Python programmers use all capital letters to indicate a variable should be treated as a constant and never be changed:"
      ]
    },
    {
      "cell_type": "code",
      "metadata": {
        "id": "YbA6w_Ftgi6G"
      },
      "source": [
        "MAX_CONNECTIONS = 5000"
      ],
      "execution_count": null,
      "outputs": []
    },
    {
      "cell_type": "markdown",
      "metadata": {
        "id": "Z82lopGfgmZe"
      },
      "source": [
        "When you want to treat a variable as a constant in your code, make the name of the variable all **capital letters**."
      ]
    },
    {
      "cell_type": "markdown",
      "metadata": {
        "id": "md8RDWBtgrPT"
      },
      "source": [
        "# **2.10 Comments**\n",
        "\n",
        "As programs get bigger and more complicated, they get more difficult to read. Formal languages are dense, and it is often difficult to look at a piece of code and figure out what it is doing, or why.\n",
        "\n",
        "For this reason, it is a good idea to add notes to your programs to explain in natural language what the program is doing. These notes are called **comments**, and they start with the **#** symbol:"
      ]
    },
    {
      "cell_type": "code",
      "metadata": {
        "id": "nWDKvR5Lg85T"
      },
      "source": [
        "# compute the percentage of the hour that has elapsed\n",
        "minute = 43\n",
        "percentage = (minute * 100) / 60"
      ],
      "execution_count": null,
      "outputs": []
    },
    {
      "cell_type": "markdown",
      "metadata": {
        "id": "DL7W54elhA38"
      },
      "source": [
        "or"
      ]
    },
    {
      "cell_type": "code",
      "metadata": {
        "id": "9cKCVbqThBrz"
      },
      "source": [
        "percentage = (minute * 100) / 60 # percentage of an hour"
      ],
      "execution_count": null,
      "outputs": []
    },
    {
      "cell_type": "markdown",
      "metadata": {
        "id": "FcUd40EhhEYD"
      },
      "source": [
        "Everything from the **#** to the end of the line is ignored—it has no effect on the execution of the program."
      ]
    },
    {
      "cell_type": "markdown",
      "metadata": {
        "id": "zjPexAanhLs7"
      },
      "source": [
        "# **That's all for Part 2!**"
      ]
    }
  ]
}